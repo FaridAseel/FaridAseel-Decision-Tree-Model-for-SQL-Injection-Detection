{
 "cells": [
  {
   "cell_type": "code",
   "execution_count": 1,
   "id": "d99040ae-4a28-4e0b-a4ef-90923cfe37d4",
   "metadata": {},
   "outputs": [],
   "source": [
    "import pandas as pd\n",
    "from sklearn.model_selection import train_test_split\n",
    "from sklearn.ensemble import RandomForestClassifier\n",
    "from sklearn.metrics import classification_report, accuracy_score, precision_score, recall_score, f1_score\n",
    "from sklearn.preprocessing import OneHotEncoder\n",
    "import warnings\n",
    "warnings.filterwarnings('ignore')\n"
   ]
  },
  {
   "cell_type": "code",
   "execution_count": 2,
   "id": "2f4d69a6-1980-4fac-8e83-65ddda59da64",
   "metadata": {},
   "outputs": [],
   "source": [
    "data = pd.read_csv(r'Modified_SQL_Dataset.csv')\n"
   ]
  },
  {
   "cell_type": "code",
   "execution_count": 3,
   "id": "d81e7afd-ab60-405e-9ddb-425f7b9c4569",
   "metadata": {},
   "outputs": [
    {
     "name": "stdout",
     "output_type": "stream",
     "text": [
      "(30919, 2)\n"
     ]
    }
   ],
   "source": [
    "print(data.shape)"
   ]
  },
  {
   "cell_type": "code",
   "execution_count": 4,
   "id": "96957fa9-4020-41e2-8ae8-2931763b7032",
   "metadata": {},
   "outputs": [
    {
     "name": "stdout",
     "output_type": "stream",
     "text": [
      "Index(['Query', 'Label'], dtype='object')\n"
     ]
    }
   ],
   "source": [
    "print(data.columns)"
   ]
  },
  {
   "cell_type": "code",
   "execution_count": 5,
   "id": "c1b60527-2bc6-4630-8d93-0168f9ac3ee4",
   "metadata": {},
   "outputs": [
    {
     "name": "stdout",
     "output_type": "stream",
     "text": [
      "Query    object\n",
      "Label     int64\n",
      "dtype: object\n"
     ]
    }
   ],
   "source": [
    "print(data.dtypes)"
   ]
  },
  {
   "cell_type": "code",
   "execution_count": 6,
   "id": "907eea58-8b0c-48c2-89bd-86451cbdce3f",
   "metadata": {},
   "outputs": [
    {
     "name": "stdout",
     "output_type": "stream",
     "text": [
      "<bound method DataFrame.info of                                                    Query  Label\n",
      "0                      \" or pg_sleep  (  __TIME__  )  --      1\n",
      "1      create user name identified by pass123 tempora...      1\n",
      "2       AND 1  =  utl_inaddr.get_host_address   (    ...      1\n",
      "3       select * from users where id  =  '1' or @ @1 ...      1\n",
      "4       select * from users where id  =  1 or 1#\"  ( ...      1\n",
      "...                                                  ...    ...\n",
      "30914              DELETE FROM door WHERE grow = 'small'      0\n",
      "30915                               DELETE FROM tomorrow      0\n",
      "30916                       SELECT wide ( s )  FROM west      0\n",
      "30917       SELECT * FROM  ( SELECT slide FROM breath )       0\n",
      "30918                           SELECT TOP 3 * FROM race      0\n",
      "\n",
      "[30919 rows x 2 columns]>\n"
     ]
    }
   ],
   "source": [
    "print(data.info)"
   ]
  },
  {
   "cell_type": "code",
   "execution_count": 7,
   "id": "3b7b7cb8-3e1d-4374-b429-7739510ee119",
   "metadata": {},
   "outputs": [],
   "source": [
    "encoder = OneHotEncoder(handle_unknown='ignore')\n",
    "X_encoded = encoder.fit_transform(data.drop('Label', axis=1))\n"
   ]
  },
  {
   "cell_type": "code",
   "execution_count": 8,
   "id": "126c69e8-387e-4b38-9d26-64dd82dbd55b",
   "metadata": {},
   "outputs": [],
   "source": [
    "X_train, X_test, y_train, y_test = train_test_split(X_encoded, data['Label'], test_size=0.2, random_state=42)\n"
   ]
  },
  {
   "cell_type": "code",
   "execution_count": 9,
   "id": "53efccbd-f389-436d-8c90-180d3178372c",
   "metadata": {},
   "outputs": [],
   "source": [
    "random_forest_model = RandomForestClassifier(n_estimators=70, random_state=42)\n",
    "random_forest_model.fit(X_train, y_train)\n",
    "y_pred_rf = random_forest_model.predict(X_test)"
   ]
  },
  {
   "cell_type": "code",
   "execution_count": 10,
   "id": "41f690c5-0ffa-4546-914c-7d6544b46900",
   "metadata": {},
   "outputs": [
    {
     "name": "stdout",
     "output_type": "stream",
     "text": [
      "  (0, 2952)\t1.0\n",
      "  (1, 26088)\t1.0\n",
      "  (2, 1955)\t1.0\n",
      "  (3, 2566)\t1.0\n",
      "  (4, 2787)\t1.0\n",
      "  (5, 2904)\t1.0\n",
      "  (6, 29552)\t1.0\n",
      "  (7, 12823)\t1.0\n",
      "  (8, 2575)\t1.0\n",
      "  (9, 2570)\t1.0\n",
      "  (10, 14970)\t1.0\n",
      "  (11, 1903)\t1.0\n",
      "  (12, 24396)\t1.0\n",
      "  (13, 2671)\t1.0\n",
      "  (14, 28375)\t1.0\n",
      "  (15, 1939)\t1.0\n",
      "  (16, 2535)\t1.0\n",
      "  (17, 2700)\t1.0\n",
      "  (18, 2745)\t1.0\n",
      "  (19, 26323)\t1.0\n",
      "  (20, 29511)\t1.0\n",
      "  (21, 6623)\t1.0\n",
      "  (22, 29573)\t1.0\n",
      "  (23, 24372)\t1.0\n",
      "  (24, 2699)\t1.0\n",
      "  :\t:\n",
      "  (30894, 18631)\t1.0\n",
      "  (30895, 16250)\t1.0\n",
      "  (30896, 16903)\t1.0\n",
      "  (30897, 17159)\t1.0\n",
      "  (30898, 17743)\t1.0\n",
      "  (30899, 16476)\t1.0\n",
      "  (30900, 19450)\t1.0\n",
      "  (30901, 17468)\t1.0\n",
      "  (30902, 16503)\t1.0\n",
      "  (30903, 17892)\t1.0\n",
      "  (30904, 19459)\t1.0\n",
      "  (30905, 1985)\t1.0\n",
      "  (30906, 2184)\t1.0\n",
      "  (30907, 15346)\t1.0\n",
      "  (30908, 15336)\t1.0\n",
      "  (30909, 617)\t1.0\n",
      "  (30910, 524)\t1.0\n",
      "  (30911, 1820)\t1.0\n",
      "  (30912, 2402)\t1.0\n",
      "  (30913, 18678)\t1.0\n",
      "  (30914, 15034)\t1.0\n",
      "  (30915, 15178)\t1.0\n",
      "  (30916, 24150)\t1.0\n",
      "  (30917, 15712)\t1.0\n",
      "  (30918, 22120)\t1.0\n"
     ]
    }
   ],
   "source": [
    "print(X_encoded)"
   ]
  },
  {
   "cell_type": "code",
   "execution_count": 11,
   "id": "ef445067-8c62-4857-b524-b3b220dbe9d8",
   "metadata": {},
   "outputs": [],
   "source": [
    "accuracy_rf = accuracy_score(y_test, y_pred_rf)\n",
    "precision_rf = precision_score(y_test, y_pred_rf, average='weighted')\n",
    "recall_rf = recall_score(y_test, y_pred_rf, average='weighted')\n",
    "f_score_rf = f1_score(y_test, y_pred_rf, average='weighted')\n",
    "classification_rep_rf = classification_report(y_test, y_pred_rf)\n"
   ]
  },
  {
   "cell_type": "code",
   "execution_count": 12,
   "id": "c5ea9544-d4d7-4626-9d24-2aff9bffe8fa",
   "metadata": {},
   "outputs": [
    {
     "name": "stdout",
     "output_type": "stream",
     "text": [
      "Random Forest - Accuracy: 0.630012936610608\n",
      "Random Forest - Precision: 0.7669698045987862\n",
      "Random Forest - Recall: 0.630012936610608\n",
      "Random Forest - F-score: 0.4875188635435504\n",
      "----------\n",
      "Random Forest - Classification Report:\n",
      "              precision    recall  f1-score   support\n",
      "\n",
      "           0       0.63      1.00      0.77      3893\n",
      "           1       1.00      0.00      0.00      2291\n",
      "\n",
      "    accuracy                           0.63      6184\n",
      "   macro avg       0.81      0.50      0.39      6184\n",
      "weighted avg       0.77      0.63      0.49      6184\n",
      "\n"
     ]
    }
   ],
   "source": [
    "print(f'Random Forest - Accuracy: {accuracy_rf}')\n",
    "print(f'Random Forest - Precision: {precision_rf}')\n",
    "print(f'Random Forest - Recall: {recall_rf}')\n",
    "print(f'Random Forest - F-score: {f_score_rf}')\n",
    "print(\"----------\")\n",
    "print(f'Random Forest - Classification Report:\\n{classification_rep_rf}')\n"
   ]
  },
  {
   "cell_type": "code",
   "execution_count": null,
   "id": "52d63663-c531-4782-be26-75339a7d4993",
   "metadata": {},
   "outputs": [],
   "source": []
  }
 ],
 "metadata": {
  "kernelspec": {
   "display_name": "Python 3 (ipykernel)",
   "language": "python",
   "name": "python3"
  },
  "language_info": {
   "codemirror_mode": {
    "name": "ipython",
    "version": 3
   },
   "file_extension": ".py",
   "mimetype": "text/x-python",
   "name": "python",
   "nbconvert_exporter": "python",
   "pygments_lexer": "ipython3",
   "version": "3.12.0rc3"
  }
 },
 "nbformat": 4,
 "nbformat_minor": 5
}
